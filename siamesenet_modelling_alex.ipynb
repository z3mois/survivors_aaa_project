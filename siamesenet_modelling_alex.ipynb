{
 "cells": [
  {
   "cell_type": "markdown",
   "metadata": {
    "id": "lkINH6Laj3B1"
   },
   "source": [
    "# Load Libraries"
   ]
  },
  {
   "cell_type": "code",
   "execution_count": null,
   "metadata": {
    "colab": {
     "base_uri": "https://localhost:8080/"
    },
    "id": "SqwZGvnGAIh_",
    "outputId": "eaa82420-9dee-4812-dc2b-8eb47e7e4b80"
   },
   "outputs": [],
   "source": [
    "\n"
   ]
  },
  {
   "cell_type": "code",
   "execution_count": 1,
   "metadata": {
    "id": "NwFaUPnWDaWa"
   },
   "outputs": [],
   "source": [
    "import pandas as pd\n",
    "import numpy as np\n",
    "import pickle\n",
    "import torch\n",
    "from torch import nn\n",
    "\n",
    "from torch.utils.data import Dataset\n",
    "from torch.utils.data import DataLoader\n",
    "\n",
    "from tqdm import tqdm\n",
    "import gc\n",
    "import random\n",
    "\n",
    "from datetime import date"
   ]
  },
  {
   "cell_type": "markdown",
   "metadata": {
    "id": "pmsoaF5Dj6T9"
   },
   "source": [
    "# Constants"
   ]
  },
  {
   "cell_type": "code",
   "execution_count": 2,
   "metadata": {
    "id": "2R_H2xX-jnGo"
   },
   "outputs": [],
   "source": [
    "DATASET_PATH = \"avito_cv2vac_with_ranks_clear.pq\"\n",
    "SEED = 42\n",
    "# DEVICE = 'cuda' if torch.cuda.is_available() else 'cpu'\n",
    "DEVICE = 'cuda'"
   ]
  },
  {
   "cell_type": "code",
   "execution_count": 3,
   "metadata": {
    "colab": {
     "base_uri": "https://localhost:8080/"
    },
    "id": "foYP-5LzlROZ",
    "outputId": "f4fa9743-62ca-4e32-b26c-c6d8d3045fb3"
   },
   "outputs": [
    {
     "name": "stderr",
     "output_type": "stream",
     "text": [
      "\"ls\" ­Ґ пў«пҐвбп ў­гваҐ­­Ґ© Ё«Ё ў­Ґи­Ґ©\n",
      "Є®¬ ­¤®©, ЁбЇ®«­пҐ¬®© Їа®Ја ¬¬®© Ё«Ё Ї ЄҐв­л¬ д ©«®¬.\n"
     ]
    }
   ],
   "source": [
    "! ls -l {DATASET_PATH}"
   ]
  },
  {
   "cell_type": "markdown",
   "metadata": {
    "id": "Ll0hSd7oj9h0"
   },
   "source": [
    "# Load Data (make splits)"
   ]
  },
  {
   "cell_type": "code",
   "execution_count": 3,
   "metadata": {
    "id": "6x9fKIzr4yqI"
   },
   "outputs": [],
   "source": [
    "with open(\"val_id.pickle\", 'rb') as f:\n",
    "    val_id = pickle.load(f)\n",
    "\n",
    "with open(\"test_id.pickle\", 'rb') as f:\n",
    "    test_id = pickle.load(f)\n",
    "\n",
    "with open(\"train_id.pickle\", 'rb') as f:\n",
    "    train_id = pickle.load(f)"
   ]
  },
  {
   "cell_type": "code",
   "execution_count": 4,
   "metadata": {
    "id": "uY8_Jt1ywc1f"
   },
   "outputs": [],
   "source": [
    "df = pd.read_parquet(DATASET_PATH)"
   ]
  },
  {
   "cell_type": "code",
   "execution_count": 5,
   "metadata": {
    "id": "cHRpqgTXxwZ7"
   },
   "outputs": [],
   "source": [
    "# сделаем id для резюме, чтобы побиться по ним (чтобы на валидации при подсчете nDCG не было лика)\n",
    "\n",
    "# vac_to_id = dict(zip(df['vac_des'].unique(), range(df['vac_des'].nunique())))"
   ]
  },
  {
   "cell_type": "code",
   "execution_count": 6,
   "metadata": {
    "id": "uC5p0XMpyiaI"
   },
   "outputs": [],
   "source": [
    "# df['vac_id'] = df['vac_des'].apply(lambda x: vac_to_id[x])"
   ]
  },
  {
   "cell_type": "code",
   "execution_count": 7,
   "metadata": {
    "id": "IOxs2bRM6Fwx"
   },
   "outputs": [],
   "source": [
    "# df.to_parquet(DATASET_PATH)"
   ]
  },
  {
   "cell_type": "markdown",
   "metadata": {
    "id": "B4jWJv2G09Xx"
   },
   "source": [
    "# Dataset"
   ]
  },
  {
   "cell_type": "code",
   "execution_count": 5,
   "metadata": {
    "id": "02kvI_QS0803"
   },
   "outputs": [],
   "source": [
    "class TripletDataset(Dataset):\n",
    "    def __init__(self, df, vac_column, res_column, label_column):\n",
    "        \"\"\"\n",
    "         Create dataset for Siamese Net training.\n",
    "\n",
    "         Parameters\n",
    "         ----------\n",
    "         df : pd.DataFrame\n",
    "             the dataframe we create dataset from\n",
    "         vac_column: str\n",
    "             name of the column of the vacancy\n",
    "         res_column: str\n",
    "             name of the column of the resume\n",
    "         label_column: str\n",
    "             name of the column of the vacancy embeddings\n",
    "\n",
    "             Returns\n",
    "         -------\n",
    "         None\n",
    "         \"\"\"\n",
    "        self.df = df[[vac_column, res_column, label_column]]\n",
    "\n",
    "        self.vac_column = vac_column\n",
    "        self.res_column = res_column\n",
    "        self.label_column = label_column\n",
    "\n",
    "        # предполагаю, что каждое резюме кидается ровно на 1 вакансию, составляя одну пару\n",
    "        self.nunique_pairs = df[res_column].nunique()\n",
    "\n",
    "\n",
    "\n",
    "    def __len__(self):\n",
    "        \"\"\"\n",
    "         Return total amount of unique pairs: (vac_embed, res_embed).\n",
    "\n",
    "         Parameters\n",
    "         ----------\n",
    "         None\n",
    "\n",
    "         Returns\n",
    "         -------\n",
    "         int\n",
    "             total amount of unique pairs: (vac_embed, res_embed) \n",
    "         \"\"\"\n",
    "        return self.nunique_pairs\n",
    "  \n",
    "    def __getitem__(self, idx):\n",
    "        '''\n",
    "         Return training object: (vac_embed, res_embed, label, rank, max_rank);\n",
    "         Return rank and max_rank to penalty most appropriate samples more.\n",
    "\n",
    "         Parameters\n",
    "         ----------\n",
    "         idx: int\n",
    "             index of the samples we want to get.\n",
    "\n",
    "         Returns\n",
    "         -------\n",
    "         tuple[torch.tensor]\n",
    "             training object like a tuple: (vac_embed, res_embed, label, rank, max_rank)\n",
    "\n",
    "        '''\n",
    "        anchor_row = self.df.iloc[idx, :]\n",
    "        anchor_vac = anchor_row[self.vac_column]\n",
    "        anchor_label = anchor_row[self.label_column]\n",
    "        try:\n",
    "            if anchor_label == 1:\n",
    "                positive_res = anchor_row[self.res_column]\n",
    "                negative_res = self.df.loc[(self.df[self.vac_column] == anchor_vac) & (self.df[self.label_column] == 0), self.res_column].iloc[0]\n",
    "\n",
    "            else:\n",
    "                negative_res = anchor_row[self.res_column]\n",
    "                positive_res = self.df.loc[(self.df[self.vac_column] == anchor_vac) & (self.df[self.label_column] == 1), self.res_column].iloc[0]\n",
    "\n",
    "            return anchor_vac, positive_res, negative_res\n",
    "        except:\n",
    "            return \"not found\", \"not found\", \"not found\""
   ]
  },
  {
   "cell_type": "code",
   "execution_count": 6,
   "metadata": {
    "id": "yNlqGa2J083A"
   },
   "outputs": [],
   "source": [
    "def collate_fn(data):\n",
    "    \"\"\"     \n",
    "     Make dict samples from tuples (it is easier to use);\n",
    "\n",
    "     Parameters\n",
    "     ----------\n",
    "       data: is a list of tuples with (vac, pos_res, neg_res, label)\n",
    "      \n",
    "    \"\"\"\n",
    "    vac, pos_res, neg_res = zip(*data)\n",
    "\n",
    "    dict_data = {'vac': vac, \n",
    "                 'pos_res': pos_res,\n",
    "                 'neg_res': neg_res}\n",
    "                 \n",
    "    return dict_data"
   ]
  },
  {
   "cell_type": "code",
   "execution_count": 7,
   "metadata": {
    "id": "0k1prG3E085U"
   },
   "outputs": [],
   "source": [
    "train_dataset = TripletDataset(df=df[df['vac_id'].isin(train_id)],\n",
    "                               vac_column='vac_des', \n",
    "                               res_column='res_des', \n",
    "                               label_column='label')\n",
    "\n",
    "val_dataset = TripletDataset(df=df[df['vac_id'].isin(val_id)],\n",
    "                               vac_column='vac_des', \n",
    "                               res_column='res_des', \n",
    "                               label_column='label')\n",
    "\n",
    "test_dataset = TripletDataset(df=df[df['vac_id'].isin(test_id)],\n",
    "                               vac_column='vac_des', \n",
    "                               res_column='res_des', \n",
    "                               label_column='label')"
   ]
  },
  {
   "cell_type": "code",
   "execution_count": 6,
   "metadata": {
    "id": "isPIW3046MC-"
   },
   "outputs": [],
   "source": [
    "# with open(\"train_dataset.pickle\", \"rb\") as f:\n",
    "#     train_dataset = pickle.load(f)\n",
    "\n",
    "# with open(\"val_dataset.pickle\", \"rb\") as f:\n",
    "#     val_dataset = pickle.load(f)\n",
    "\n",
    "# with open(\"test_dataset.pickle\", \"rb\") as f:\n",
    "#     test_dataset = pickle.load(f)"
   ]
  },
  {
   "cell_type": "markdown",
   "metadata": {
    "id": "ZVcAdubFPdZr"
   },
   "source": [
    "# Make net\n",
    "\n"
   ]
  },
  {
   "cell_type": "code",
   "execution_count": 8,
   "metadata": {
    "id": "pvOB2PavPc0_"
   },
   "outputs": [],
   "source": [
    "# добавил функцию для создания эмбеддингов внутри\n",
    "\n",
    "class SiameseCVNet(nn.Module):\n",
    "    def __init__(self, vac_vocab_size, res_vocab_size,\n",
    "               embedding_dim, rnn_hidden_dim, \n",
    "               hidden_layers, fc1_output=512, fc2_output=128):\n",
    "    \n",
    "        super(SiameseCVNet, self).__init__()\n",
    "\n",
    "        self.vac_vocab_size = vac_vocab_size\n",
    "        self.res_vocab_size = res_vocab_size\n",
    "\n",
    "        self.embedding_dim = embedding_dim\n",
    "        self.rnn_hidden_dim = rnn_hidden_dim\n",
    "        self.hidden_layers = hidden_layers\n",
    "\n",
    "        # считаем после конкатенации в forward_one\n",
    "        self.fc1_input_one = 2 * (self.embedding_dim + (self.hidden_layers + 1) * self.rnn_hidden_dim)\n",
    "\n",
    "        # но мы конкатенируем 2 сэмпла!\n",
    "        self.fc1_input = 2 * self.fc1_input_one\n",
    "\n",
    "        self.fc1_output = fc1_output\n",
    "        self.fc2_output = fc2_output\n",
    "\n",
    "        self.vac_embed = nn.Embedding(vac_vocab_size, embedding_dim)\n",
    "        self.res_embed = nn.Embedding(res_vocab_size, embedding_dim)\n",
    "\n",
    "        self.rnn = nn.LSTM(input_size=embedding_dim,\n",
    "                           hidden_size=rnn_hidden_dim,\n",
    "                           num_layers=hidden_layers,\n",
    "                           batch_first=True)\n",
    "\n",
    "        fc1 = nn.Linear(self.fc1_input, self.fc1_output)\n",
    "        relu = nn.ReLU()\n",
    "        fc2 = nn.Linear(self.fc1_output, self.fc2_output)\n",
    "        sigmoid = nn.Sigmoid()\n",
    "\n",
    "        self.nn_head = nn.Sequential(\n",
    "            fc1,\n",
    "            relu,\n",
    "            fc2,\n",
    "            sigmoid\n",
    "\n",
    "          ) \n",
    "\n",
    "    def forward(self, vac_text, res_text):\n",
    "        vac_embeds = self.vac_embed(vac_text)\n",
    "        res_embeds = self.res_embed(res_text)\n",
    "\n",
    "        catted_output_vac = self.forward_one(vac_embeds)\n",
    "        catted_output_res = self.forward_one(res_embeds)\n",
    "\n",
    "        # конкатенируем и пускаем через dense\n",
    "\n",
    "        catted_output = torch.cat((catted_output_vac, catted_output_res), dim=-1)\n",
    "        sigm_output = self.nn_head(catted_output)\n",
    "\n",
    "        return sigm_output\n",
    "\n",
    "    def forward_one(self, batch):\n",
    "        '''\n",
    "        image there is just a tensor of embeddings\n",
    "        shit with dims for sure\n",
    "        '''\n",
    "\n",
    "        # print('sample:', batch.shape)\n",
    "\n",
    "        rnn_output, (hidden_states, cell_states) = self.rnn(batch)\n",
    "\n",
    "        # print('rnn output:', rnn_output.shape)\n",
    "\n",
    "        embed_max_pool = batch.max(dim=1)[0]\n",
    "        embed_avg_pool = batch.sum(dim=1) / len(batch)\n",
    "\n",
    "        rnn_max_pool = rnn_output.max(dim=1)[0]\n",
    "        rnn_avg_pool = rnn_output.sum(dim=1) / len(rnn_output)  \n",
    "\n",
    "        # print('embed pool:', embed_max_pool.shape, embed_avg_pool.shape)\n",
    "        # print('rnn output pool:', rnn_max_pool.shape, rnn_max_pool.shape) \n",
    "        # print('hidden and state: ', hidden_states.shape, cell_states.shape)\n",
    "\n",
    "        # тут 0 ось -- кол-во слоев в rnn-блоке\n",
    "        hidden_states = torch.cat([hidden_states[i, :, :] for i in range(hidden_states.shape[0])], dim=-1)\n",
    "        cell_states = torch.cat([cell_states[i, :, :] for i in range(cell_states.shape[0])], dim=-1)\n",
    "\n",
    "        # print('hidden and state: ', hidden_states.shape, cell_states.shape)\n",
    "\n",
    "        catted_output = torch.cat((embed_max_pool, embed_avg_pool, rnn_max_pool, \n",
    "                                  rnn_avg_pool, hidden_states, cell_states), dim=-1)\n",
    "\n",
    "        return catted_output "
   ]
  },
  {
   "cell_type": "code",
   "execution_count": 9,
   "metadata": {
    "id": "ANSAwxXrJ_0_"
   },
   "outputs": [],
   "source": [
    "# c = 0\n",
    "\n",
    "# for batch in loader:\n",
    "#   vac = batch[\"vac\"]\n",
    "#   pos_res = batch[\"pos_res\"]\n",
    "#   neg_res = batch[\"neg_res\"]\n",
    "\n",
    "#   vac_ind = make_indexes_from_tuple(vac, vac_vocab).to(DEVICE)\n",
    "#   pos_res_ind = make_indexes_from_tuple(pos_res, res_vocab).to(DEVICE)\n",
    "\n",
    "#   neg_res_ind = make_indexes_from_tuple(neg_res, res_vocab).to(DEVICE)\n",
    "\n",
    "#   pos_sim = model(vac_ind, pos_res_ind)\n",
    "#   neg_sim = model(vac_ind, neg_res_ind)\n",
    "\n",
    "#   print(neg_res_ind.shape)\n",
    "\n",
    "#   c += 1\n",
    "#   if c == 10:\n",
    "#     break\n",
    "\n",
    "\n",
    "#     # 2 * embed + 2 * hidden + 2 * layers * hidden"
   ]
  },
  {
   "cell_type": "code",
   "execution_count": null,
   "metadata": {
    "id": "2c_PLKTnJ_31"
   },
   "outputs": [],
   "source": []
  },
  {
   "cell_type": "markdown",
   "metadata": {
    "id": "Lh6gjM27QBwR"
   },
   "source": [
    "# Make Vocab"
   ]
  },
  {
   "cell_type": "code",
   "execution_count": 22,
   "metadata": {
    "colab": {
     "base_uri": "https://localhost:8080/"
    },
    "id": "bgrF1LWMQDrg",
    "outputId": "b934abd7-35ad-4c92-f428-8ff4cb734cb3"
   },
   "outputs": [
    {
     "name": "stdout",
     "output_type": "stream",
     "text": [
      "Collecting natasha\n",
      "  Downloading natasha-1.5.0-py3-none-any.whl (34.4 MB)\n",
      "     ---------------------------------------- 34.4/34.4 MB 9.9 MB/s eta 0:00:00\n",
      "Collecting yargy>=0.14.0\n",
      "  Downloading yargy-0.15.1-py3-none-any.whl (33 kB)\n",
      "Collecting slovnet>=0.6.0\n",
      "  Downloading slovnet-0.6.0-py3-none-any.whl (46 kB)\n",
      "     ---------------------------------------- 46.7/46.7 kB 2.3 MB/s eta 0:00:00\n",
      "Collecting ipymarkup>=0.8.0\n",
      "  Downloading ipymarkup-0.9.0-py3-none-any.whl (14 kB)\n",
      "Collecting navec>=0.9.0\n",
      "  Downloading navec-0.10.0-py3-none-any.whl (23 kB)\n",
      "Requirement already satisfied: pymorphy2 in c:\\users\\professional\\anaconda3\\lib\\site-packages (from natasha) (0.9.1)\n",
      "Requirement already satisfied: razdel>=0.5.0 in c:\\users\\professional\\anaconda3\\lib\\site-packages (from natasha) (0.5.0)\n",
      "Requirement already satisfied: intervaltree>=3 in c:\\users\\professional\\anaconda3\\lib\\site-packages (from ipymarkup>=0.8.0->natasha) (3.1.0)\n",
      "Requirement already satisfied: numpy in c:\\users\\professional\\anaconda3\\lib\\site-packages (from navec>=0.9.0->natasha) (1.24.2)\n",
      "Requirement already satisfied: docopt>=0.6 in c:\\users\\professional\\anaconda3\\lib\\site-packages (from pymorphy2->natasha) (0.6.2)\n",
      "Requirement already satisfied: dawg-python>=0.7.1 in c:\\users\\professional\\anaconda3\\lib\\site-packages (from pymorphy2->natasha) (0.7.2)\n",
      "Requirement already satisfied: pymorphy2-dicts-ru<3.0,>=2.4 in c:\\users\\professional\\anaconda3\\lib\\site-packages (from pymorphy2->natasha) (2.4.417127.4579844)\n",
      "Requirement already satisfied: sortedcontainers<3.0,>=2.0 in c:\\users\\professional\\anaconda3\\lib\\site-packages (from intervaltree>=3->ipymarkup>=0.8.0->natasha) (2.4.0)\n",
      "Installing collected packages: navec, yargy, slovnet, ipymarkup, natasha\n",
      "Successfully installed ipymarkup-0.9.0 natasha-1.5.0 navec-0.10.0 slovnet-0.6.0 yargy-0.15.1\n"
     ]
    }
   ],
   "source": [
    "! pip install natasha"
   ]
  },
  {
   "cell_type": "code",
   "execution_count": 9,
   "metadata": {
    "id": "jE5OG3zFQE7a"
   },
   "outputs": [],
   "source": [
    "from natasha import Segmenter, Doc"
   ]
  },
  {
   "cell_type": "code",
   "execution_count": 10,
   "metadata": {
    "id": "ui-zSPiqRtJM"
   },
   "outputs": [],
   "source": [
    "# device = torch.device('cuda' if torch.cuda.is_available() else 'cpu')\n",
    "# vac_texts = []\n",
    "# res_texts = []\n",
    "\n",
    "segmenter = Segmenter()"
   ]
  },
  {
   "cell_type": "code",
   "execution_count": 11,
   "metadata": {
    "id": "lGGnyx5rQA-1"
   },
   "outputs": [],
   "source": [
    "# запоминаем vocab на train'е\n",
    "\n",
    "# for vac_text, res_text, _ in iter(train_dataset):\n",
    "#     vac_doc = Doc(vac_text)\n",
    "#     vac_doc.segment(segmenter)\n",
    "#     vac_tokens = [token.text for token in vac_doc.tokens]\n",
    "#     vac_texts.extend([token.lower() for token in vac_tokens])\n",
    "\n",
    "#     res_doc = Doc(res_text)\n",
    "#     res_doc.segment(segmenter)\n",
    "#     res_tokens = [token.text for token in res_doc.tokens]\n",
    "#     res_texts.extend([token.lower() for token in res_tokens])"
   ]
  },
  {
   "cell_type": "code",
   "execution_count": 12,
   "metadata": {
    "id": "ggJfq3HeUD-s"
   },
   "outputs": [],
   "source": [
    "# len(vac_texts), len(res_texts)"
   ]
  },
  {
   "cell_type": "code",
   "execution_count": 13,
   "metadata": {
    "id": "JHNx-khadLNq"
   },
   "outputs": [],
   "source": [
    "# вокабы\n",
    "\n",
    "# vac_vocab = {token: ind for ind, token in enumerate(list(set(vac_texts)))}\n",
    "# res_vocab = {token: ind for ind, token in enumerate(list(set(res_texts)))}"
   ]
  },
  {
   "cell_type": "code",
   "execution_count": 14,
   "metadata": {
    "id": "Gxb5YxT_dLP1"
   },
   "outputs": [],
   "source": [
    "# len(vac_vocab), len(res_vocab)"
   ]
  },
  {
   "cell_type": "code",
   "execution_count": 11,
   "metadata": {
    "id": "kH8Xc37biPRZ"
   },
   "outputs": [],
   "source": [
    "with open(\"vac_vocab.pickle\", 'rb') as f:\n",
    "    vac_vocab = pickle.load(f)\n",
    "\n",
    "with open(\"res_vocab.pickle\", 'rb') as f:\n",
    "    res_vocab = pickle.load(f)"
   ]
  },
  {
   "cell_type": "markdown",
   "metadata": {
    "id": "U5ZZm5lqWJRw"
   },
   "source": [
    "# First attempts"
   ]
  },
  {
   "cell_type": "code",
   "execution_count": 12,
   "metadata": {
    "id": "LIi9d_iroxyU"
   },
   "outputs": [],
   "source": [
    "class TripletLoss(nn.Module):\n",
    "    def __init__(self, margin=1.0):\n",
    "        super(TripletLoss, self).__init__()\n",
    "        self.margin = margin\n",
    "    \n",
    "    def forward(self, pos_sim: torch.Tensor, neg_sim: torch.Tensor) -> torch.Tensor:\n",
    "        losses = torch.relu(neg_sim - pos_sim + self.margin)\n",
    "        \n",
    "        return losses.mean()"
   ]
  },
  {
   "cell_type": "code",
   "execution_count": 13,
   "metadata": {
    "id": "ZnH64qplZ2P_"
   },
   "outputs": [],
   "source": [
    "def make_indexes_from_tuple(t, vocab):\n",
    "    indexes = []\n",
    "    for sent in t:\n",
    "        sent = Doc(sent)\n",
    "        sent.segment(segmenter) \n",
    "        ind = np.array([vocab.get(token.text.lower()) for token in sent.tokens], dtype=np.float16)\n",
    "\n",
    "        ind = np.nan_to_num(ind, nan=0)\n",
    "        ind = torch.LongTensor(ind)\n",
    "\n",
    "        indexes.append(ind)\n",
    "  \n",
    "    padded_indexes = nn.utils.rnn.pad_sequence(indexes, padding_value=0, batch_first=True)\n",
    "    return padded_indexes"
   ]
  },
  {
   "cell_type": "code",
   "execution_count": 14,
   "metadata": {},
   "outputs": [
    {
     "data": {
      "text/plain": [
       "True"
      ]
     },
     "execution_count": 14,
     "metadata": {},
     "output_type": "execute_result"
    }
   ],
   "source": [
    "1 in set((1, torch.tensor([1]), torch.tensor([0, 0])))"
   ]
  },
  {
   "cell_type": "code",
   "execution_count": 14,
   "metadata": {
    "id": "F4r6K23W7NHJ"
   },
   "outputs": [],
   "source": [
    "def train_epoch(model, optimizer, dataset, batch_size, shuffle, collate_fn, verbose_every_n_batches=300):\n",
    "    \n",
    "    torch_dataloader = DataLoader(dataset, batch_size=batch_size, shuffle=shuffle, collate_fn=collate_fn)\n",
    "    loss = TripletLoss(margin=1)\n",
    "    total_train_loss = 0\n",
    "    running_train_loss = 0\n",
    "    num_batches = 1\n",
    "    model = model.to(DEVICE)\n",
    "    model.train()\n",
    "    for batch in tqdm(torch_dataloader, desc=\"Training\"):\n",
    "        vac, pos_res, neg_res = batch[\"vac\"], batch[\"pos_res\"], batch[\"neg_res\"]\n",
    "        if \"not found\" in vac:\n",
    "            continue\n",
    "        vac_ind = make_indexes_from_tuple(vac, vac_vocab).to(DEVICE)\n",
    "        pos_res_ind = make_indexes_from_tuple(pos_res, res_vocab).to(DEVICE)\n",
    "        neg_res_ind = make_indexes_from_tuple(neg_res, res_vocab).to(DEVICE)\n",
    "        pos_sim = model(vac_ind, pos_res_ind)\n",
    "        neg_sim = model(vac_ind, neg_res_ind)\n",
    "        batch_loss = loss(pos_sim, neg_sim)\n",
    "        batch_loss.backward()\n",
    "        optimizer.step()\n",
    "        optimizer.zero_grad()\n",
    "        total_train_loss += batch_loss \n",
    "#         ??? * batch_size\n",
    "        running_train_loss += batch_loss\n",
    "        if num_batches == 1:\n",
    "            print(f\"Train loss after first batch: {running_train_loss}\", end='\\r')    \n",
    "        \n",
    "        if num_batches % verbose_every_n_batches == 0:\n",
    "            print(f\"Mean train loss on the last {verbose_every_n_batches} batches: {running_train_loss / verbose_every_n_batches};\", end=\"\\r\")\n",
    "            running_train_loss = 0\n",
    "\n",
    "        num_batches += 1\n",
    "            \n",
    "    print(f\"Mean train loss after epoch: {total_train_loss / num_batches}\")\n",
    "    print(f\"Total train loss after epoch: {total_train_loss}\")\n",
    "  \n",
    "\n",
    "# по хорошему эту функцию надо будет менять, если хотим считать nDCG\n",
    "def eval_model(model, dataset, batch_size, collate_fn, \n",
    "               verbose_every_n_batches=300):\n",
    "    torch_dataloader = DataLoader(dataset, batch_size=batch_size, shuffle=False, collate_fn=collate_fn)\n",
    "    preds, targets = [], []\n",
    "    \n",
    "    total_valid_loss = 0\n",
    "    num_batches = 0\n",
    "    \n",
    "    model.eval()\n",
    "    with torch.no_grad():\n",
    "        for batch in tqdm(torch_dataloader, desc=\"Evaluating\"):\n",
    "            vac, pos_res, neg_res = batch[\"vac\"], batch[\"pos_res\"], batch[\"neg_res\"]\n",
    "            if \"not found\" in vac:\n",
    "                continue\n",
    "            vac_ind = make_indexes_from_tuple(vac, vac_vocab).to(DEVICE)\n",
    "            pos_res_ind = make_indexes_from_tuple(pos_res, res_vocab).to(DEVICE)\n",
    "            neg_res_ind = make_indexes_from_tuple(neg_res, res_vocab).to(DEVICE)\n",
    "            pos_sim = model(vac_ind, pos_res_ind)\n",
    "            neg_sim = model(vac_ind, neg_res_ind)\n",
    "            preds.extend(pos_sim.detach().cpu().numpy())\n",
    "            targets.extend(np.ones(pos_sim.shape))\n",
    "            preds.extend(neg_sim.detach().cpu().numpy())\n",
    "            targets.extend(np.zeros(neg_sim.shape))\n",
    "\n",
    "    return targets, preds"
   ]
  },
  {
   "cell_type": "code",
   "execution_count": 15,
   "metadata": {
    "id": "ZrFiKeaUASLH"
   },
   "outputs": [],
   "source": [
    "def clean_cuda_cache():\n",
    "  start_available, reserved = torch.cuda.mem_get_info()\n",
    "  torch.cuda.empty_cache()\n",
    "  gc.collect()\n",
    "  fin_available, reserved = torch.cuda.mem_get_info()\n",
    "  print(f\"cleaned {(fin_available - start_available) / 2**10} gb\")\n",
    "  print(f\"available {fin_available / 2**20} gb\")"
   ]
  },
  {
   "cell_type": "code",
   "execution_count": 16,
   "metadata": {
    "id": "AD_rxRXN71mE"
   },
   "outputs": [],
   "source": [
    "def train_val_loop(\n",
    "    model, optimizer, scheduler, \n",
    "    dataset_train, dataset_val, dataset_test,\n",
    "    batch_size_train, batch_size_test, batch_size_val,\n",
    "    num_epochs, train_shuffle, collate_fn, \n",
    "    verbose_every_n_batches, eval_on_train, \n",
    "    early_stopping_patience=7\n",
    "):\n",
    "\n",
    "    for n_epoch in range(1, num_epochs + 1):\n",
    "        train_epoch(\n",
    "                    model=model, \n",
    "                    optimizer=optimizer, \n",
    "                    dataset=dataset_train, \n",
    "                    batch_size=batch_size_train, \n",
    "                    shuffle=train_shuffle, \n",
    "                    collate_fn=collate_fn, \n",
    "                    verbose_every_n_batches=verbose_every_n_batches\n",
    "                  )\n",
    "                    \n",
    "        # clean cache before validation    \n",
    "        clean_cuda_cache()    \n",
    "            \n",
    "        targets_val, preds_val = eval_model(\n",
    "            model=model,\n",
    "            dataset=dataset_val,\n",
    "            batch_size=batch_size_val,\n",
    "            collate_fn=collate_fn\n",
    "        )\n",
    "        \n",
    "        # for logging while validating\n",
    "        loss = TripletLoss(margin=1)  \n",
    "        # count common loss\n",
    "        val_loss = loss(torch.tensor(np.array(targets_val)), torch.tensor(np.array(preds_val)))\n",
    "        \n",
    "        with open(LOGGING_FILE_PATH, 'a') as f:\n",
    "            f.write(f'epoch {n_epoch}. valid loss: {val_loss}\\n')\n",
    "\n",
    "        # torch.save(model.state_dict(), os.path.join(EXP_CHECKPOINTS_PATH, f\"epoch_{n_epoch}_{datetime.now().strftime('%Y-%m-%d')}_{datetime.now().strftime('%H:%M:%S')}_testCC_{round(test_roc_auc_CC, 3)}_testPIL_{round(test_roc_auc_PIL, 3)}.pt\"))\n",
    "                \n",
    "        targets_test, preds_test = eval_model(\n",
    "            model=model,\n",
    "            dataset=dataset_test,\n",
    "            batch_size=batch_size_test,\n",
    "            collate_fn=collate_fn\n",
    "        )\n",
    "        # count common loss\n",
    "        test_loss =  loss(torch.tensor(np.array(targets_test)), torch.tensor(np.array(preds_test)))\n",
    "        \n",
    "        with open(LOGGING_FILE_PATH, 'a') as f:\n",
    "            f.write(f'epoch {n_epoch}. test loss: {test_loss}\\n')\n",
    "\n",
    "        scheduler.step(val_loss)\n",
    "        \n",
    "#         if eval_on_train:\n",
    "#                 targets_train, preds_train = eval_model(\n",
    "#                 model=model,\n",
    "#                 dataset=dataset_train,\n",
    "#                 batch_size=batch_size_train,\n",
    "#                 collate_fn=collate_fn\n",
    "#             )\n",
    "#                 # count common loss\n",
    "#                 train_loss = loss(torch.tensor(np.array(targets_train)), torch.tensor(np.array(preds_train)))\n",
    "                \n",
    "#                 with open(LOGGING_FILE_PATH, 'a') as f:\n",
    "#                     f.write(f'epoch {n_epoch}. train loss: {train_loss}\\n')\n",
    "\n",
    "        print(35 * \"=\" + \"\\n\")\n"
   ]
  },
  {
   "cell_type": "code",
   "execution_count": 17,
   "metadata": {
    "colab": {
     "base_uri": "https://localhost:8080/"
    },
    "id": "mb_QxDW9BBgn",
    "outputId": "6a385538-616c-4c70-b044-bd6d4d34fb89"
   },
   "outputs": [],
   "source": [
    "# EXP_PATH = f\"D:\\\\aaa_final\"\n",
    "LOGGING_FILE_PATH = \"D:\\\\aaa_final\\\\logs.txt\"\n"
   ]
  },
  {
   "cell_type": "code",
   "execution_count": 18,
   "metadata": {
    "id": "0SUAX2p7-gnc"
   },
   "outputs": [],
   "source": [
    "model_parameters = {\n",
    "    \"embedding_dim\": 128,\n",
    "    \"rnn_hidden_dim\": 512,\n",
    "    \"hidden_layers\": 1,\n",
    "    \"fc1_output\": 256,\n",
    "    \"fc2_output\": 128,\n",
    "    \"vac_vocab_size\": len(vac_vocab),\n",
    "    \"res_vocab_size\": len(res_vocab),\n",
    "}\n",
    "\n",
    "# похоже, на 512 уже не вывозит\n",
    "experement_parameters = {\n",
    "    \"optimizer_lr\": 1e-4,\n",
    "    \"optimizer_weight_decay\": 1e-4,\n",
    "    \"scheduler_patience\": 5,\n",
    "    \"scheduler_factor\": 0.8,\n",
    "    \"dataset_train\": train_dataset,\n",
    "    \"dataset_test\": val_dataset,\n",
    "    \"dataset_val\": test_dataset,\n",
    "    \"batch_size_train\": 64, \n",
    "    \"batch_size_val\": 64, \n",
    "    \"batch_size_test\": 64,\n",
    "    \"num_epochs\": 5,\n",
    "    \"train_shuffle\": True,\n",
    "    \"collate_fn\": collate_fn,\n",
    "    \"verbose_every_n_batches\": 300,\n",
    "    \"eval_on_train\": False,\n",
    "}\n",
    "\n",
    "# надо будет размерности чинить\n",
    "model = SiameseCVNet(\n",
    "    embedding_dim=model_parameters[\"embedding_dim\"],\n",
    "    vac_vocab_size=model_parameters[\"vac_vocab_size\"],\n",
    "    res_vocab_size=model_parameters[\"res_vocab_size\"],    \n",
    "    rnn_hidden_dim=model_parameters[\"rnn_hidden_dim\"],\n",
    "    hidden_layers=model_parameters[\"hidden_layers\"],\n",
    "    fc1_output=model_parameters[\"fc1_output\"],\n",
    "    fc2_output=model_parameters[\"fc2_output\"]\n",
    ")\n",
    "\n",
    "# классика\n",
    "optimizer = torch.optim.AdamW(\n",
    "    params=model.parameters(),\n",
    "    lr=experement_parameters[\"optimizer_lr\"],\n",
    "    weight_decay=experement_parameters[\"optimizer_weight_decay\"]\n",
    ")\n",
    "\n",
    "# норм оптимайзер вроде\n",
    "scheduler = torch.optim.lr_scheduler.ReduceLROnPlateau(\n",
    "    optimizer=optimizer,\n",
    "    patience=experement_parameters[\"scheduler_patience\"],\n",
    "    factor=experement_parameters[\"scheduler_factor\"]\n",
    ")\n",
    "\n",
    "loss = TripletLoss(margin=1)"
   ]
  },
  {
   "cell_type": "code",
   "execution_count": null,
   "metadata": {
    "id": "ijJ78f8pRaaD"
   },
   "outputs": [],
   "source": []
  },
  {
   "cell_type": "code",
   "execution_count": 19,
   "metadata": {
    "colab": {
     "background_save": true,
     "base_uri": "https://localhost:8080/"
    },
    "id": "gX_vI4Ae-y2Z",
    "outputId": "975ce478-388e-4866-dd3a-3275d30a3e29"
   },
   "outputs": [
    {
     "name": "stderr",
     "output_type": "stream",
     "text": [
      "Training:   0%|                                                                        | 1/952 [00:03<53:01,  3.35s/it]"
     ]
    },
    {
     "name": "stdout",
     "output_type": "stream",
     "text": [
      "Train loss after first batch: 0.9999215602874756\r"
     ]
    },
    {
     "name": "stderr",
     "output_type": "stream",
     "text": [
      "Training:  32%|██████████████████████▏                                               | 302/952 [16:14<34:32,  3.19s/it]"
     ]
    },
    {
     "name": "stdout",
     "output_type": "stream",
     "text": [
      "Mean train loss on the last 300 batches: 1.0004866123199463;\r"
     ]
    },
    {
     "name": "stderr",
     "output_type": "stream",
     "text": [
      "Training:  64%|████████████████████████████████████████████▋                         | 607/952 [32:36<18:15,  3.18s/it]"
     ]
    },
    {
     "name": "stdout",
     "output_type": "stream",
     "text": [
      "Mean train loss on the last 300 batches: 1.000151515007019;\r"
     ]
    },
    {
     "name": "stderr",
     "output_type": "stream",
     "text": [
      "Training:  96%|██████████████████████████████████████████████████████████████████▉   | 911/952 [48:55<02:13,  3.25s/it]"
     ]
    },
    {
     "name": "stdout",
     "output_type": "stream",
     "text": [
      "Mean train loss on the last 300 batches: 0.9977630972862244;\r"
     ]
    },
    {
     "name": "stderr",
     "output_type": "stream",
     "text": [
      "Training: 100%|██████████████████████████████████████████████████████████████████████| 952/952 [51:07<00:00,  3.22s/it]\n"
     ]
    },
    {
     "name": "stdout",
     "output_type": "stream",
     "text": [
      "Mean train loss after epoch: 0.9981701374053955\n",
      "Total train loss after epoch: 940.2762451171875\n",
      "cleaned 2668544.0 gb\n",
      "available 4643.0 gb\n"
     ]
    },
    {
     "name": "stderr",
     "output_type": "stream",
     "text": [
      "Evaluating: 100%|████████████████████████████████████████████████████████████████████| 493/493 [04:27<00:00,  1.84it/s]\n",
      "Evaluating: 100%|████████████████████████████████████████████████████████████████████| 190/190 [00:51<00:00,  3.72it/s]\n"
     ]
    },
    {
     "name": "stdout",
     "output_type": "stream",
     "text": [
      "===================================\n",
      "\n"
     ]
    },
    {
     "name": "stderr",
     "output_type": "stream",
     "text": [
      "Training:   0%|                                                                        | 1/952 [00:03<53:11,  3.36s/it]"
     ]
    },
    {
     "name": "stdout",
     "output_type": "stream",
     "text": [
      "Train loss after first batch: 1.0294036865234375\r"
     ]
    },
    {
     "name": "stderr",
     "output_type": "stream",
     "text": [
      "Training:  32%|██████████████████████▍                                               | 305/952 [16:48<35:45,  3.32s/it]"
     ]
    },
    {
     "name": "stdout",
     "output_type": "stream",
     "text": [
      "Mean train loss on the last 300 batches: 0.999599039554596;\r"
     ]
    },
    {
     "name": "stderr",
     "output_type": "stream",
     "text": [
      "Training:  64%|████████████████████████████████████████████▊                         | 610/952 [33:40<18:59,  3.33s/it]"
     ]
    },
    {
     "name": "stdout",
     "output_type": "stream",
     "text": [
      "Mean train loss on the last 300 batches: 0.989678680896759;\r"
     ]
    },
    {
     "name": "stderr",
     "output_type": "stream",
     "text": [
      "Training:  96%|██████████████████████████████████████████████████████████████████▉   | 910/952 [50:16<02:21,  3.36s/it]"
     ]
    },
    {
     "name": "stdout",
     "output_type": "stream",
     "text": [
      "Mean train loss on the last 300 batches: 0.9828541278839111;\r"
     ]
    },
    {
     "name": "stderr",
     "output_type": "stream",
     "text": [
      "Training: 100%|██████████████████████████████████████████████████████████████████████| 952/952 [52:34<00:00,  3.31s/it]\n"
     ]
    },
    {
     "name": "stdout",
     "output_type": "stream",
     "text": [
      "Mean train loss after epoch: 0.9893582463264465\n",
      "Total train loss after epoch: 931.9754028320312\n",
      "cleaned 4198492.0 gb\n",
      "available 4643.0 gb\n"
     ]
    },
    {
     "name": "stderr",
     "output_type": "stream",
     "text": [
      "Evaluating: 100%|████████████████████████████████████████████████████████████████████| 493/493 [04:31<00:00,  1.81it/s]\n",
      "Evaluating: 100%|████████████████████████████████████████████████████████████████████| 190/190 [00:51<00:00,  3.72it/s]\n"
     ]
    },
    {
     "name": "stdout",
     "output_type": "stream",
     "text": [
      "===================================\n",
      "\n"
     ]
    },
    {
     "name": "stderr",
     "output_type": "stream",
     "text": [
      "Training:   0%|                                                                        | 1/952 [00:03<51:17,  3.24s/it]"
     ]
    },
    {
     "name": "stdout",
     "output_type": "stream",
     "text": [
      "Train loss after first batch: 0.8979332447052002\r"
     ]
    },
    {
     "name": "stderr",
     "output_type": "stream",
     "text": [
      "Training:  32%|██████████████████████▍                                               | 305/952 [16:34<37:07,  3.44s/it]"
     ]
    },
    {
     "name": "stdout",
     "output_type": "stream",
     "text": [
      "Mean train loss on the last 300 batches: 0.9669723510742188;\r"
     ]
    },
    {
     "name": "stderr",
     "output_type": "stream",
     "text": [
      "Training:  64%|████████████████████████████████████████████▊                         | 609/952 [34:01<19:11,  3.36s/it]"
     ]
    },
    {
     "name": "stdout",
     "output_type": "stream",
     "text": [
      "Mean train loss on the last 300 batches: 0.9624716639518738;\r"
     ]
    },
    {
     "name": "stderr",
     "output_type": "stream",
     "text": [
      "Training:  96%|██████████████████████████████████████████████████████████████████▉   | 910/952 [50:53<02:22,  3.38s/it]"
     ]
    },
    {
     "name": "stdout",
     "output_type": "stream",
     "text": [
      "Mean train loss on the last 300 batches: 0.967728316783905;\r"
     ]
    },
    {
     "name": "stderr",
     "output_type": "stream",
     "text": [
      "Training: 100%|██████████████████████████████████████████████████████████████████████| 952/952 [53:13<00:00,  3.35s/it]\n"
     ]
    },
    {
     "name": "stdout",
     "output_type": "stream",
     "text": [
      "Mean train loss after epoch: 0.966425895690918\n",
      "Total train loss after epoch: 910.3731689453125\n",
      "cleaned 2859008.0 gb\n",
      "available 4643.0 gb\n"
     ]
    },
    {
     "name": "stderr",
     "output_type": "stream",
     "text": [
      "Evaluating: 100%|████████████████████████████████████████████████████████████████████| 493/493 [05:41<00:00,  1.44it/s]\n",
      "Evaluating: 100%|████████████████████████████████████████████████████████████████████| 190/190 [00:55<00:00,  3.42it/s]\n"
     ]
    },
    {
     "name": "stdout",
     "output_type": "stream",
     "text": [
      "===================================\n",
      "\n"
     ]
    },
    {
     "name": "stderr",
     "output_type": "stream",
     "text": [
      "Training:   0%|                                                                        | 1/952 [00:03<54:48,  3.46s/it]"
     ]
    },
    {
     "name": "stdout",
     "output_type": "stream",
     "text": [
      "Train loss after first batch: 0.9845389723777771\r"
     ]
    },
    {
     "name": "stderr",
     "output_type": "stream",
     "text": [
      "Training:  32%|██████████████████████▎                                               | 304/952 [19:01<34:32,  3.20s/it]"
     ]
    },
    {
     "name": "stdout",
     "output_type": "stream",
     "text": [
      "Mean train loss on the last 300 batches: 0.9741309881210327;\r"
     ]
    },
    {
     "name": "stderr",
     "output_type": "stream",
     "text": [
      "Training:  64%|████████████████████████████████████████████▊                         | 609/952 [35:30<18:20,  3.21s/it]"
     ]
    },
    {
     "name": "stdout",
     "output_type": "stream",
     "text": [
      "Mean train loss on the last 300 batches: 0.9658050537109375;\r"
     ]
    },
    {
     "name": "stderr",
     "output_type": "stream",
     "text": [
      "Training:  96%|██████████████████████████████████████████████████████████████████▉   | 911/952 [51:46<02:16,  3.32s/it]"
     ]
    },
    {
     "name": "stdout",
     "output_type": "stream",
     "text": [
      "Mean train loss on the last 300 batches: 0.9582651257514954;\r"
     ]
    },
    {
     "name": "stderr",
     "output_type": "stream",
     "text": [
      "Training: 100%|██████████████████████████████████████████████████████████████████████| 952/952 [53:58<00:00,  3.40s/it]\n"
     ]
    },
    {
     "name": "stdout",
     "output_type": "stream",
     "text": [
      "Mean train loss after epoch: 0.9643377661705017\n",
      "Total train loss after epoch: 908.4061279296875\n",
      "cleaned 3264512.0 gb\n",
      "available 4643.0 gb\n"
     ]
    },
    {
     "name": "stderr",
     "output_type": "stream",
     "text": [
      "Evaluating: 100%|████████████████████████████████████████████████████████████████████| 493/493 [04:32<00:00,  1.81it/s]\n",
      "Evaluating: 100%|████████████████████████████████████████████████████████████████████| 190/190 [00:50<00:00,  3.74it/s]\n"
     ]
    },
    {
     "name": "stdout",
     "output_type": "stream",
     "text": [
      "===================================\n",
      "\n"
     ]
    },
    {
     "name": "stderr",
     "output_type": "stream",
     "text": [
      "Training:   0%|                                                                        | 1/952 [00:03<50:47,  3.20s/it]"
     ]
    },
    {
     "name": "stdout",
     "output_type": "stream",
     "text": [
      "Train loss after first batch: 0.9180682897567749\r"
     ]
    },
    {
     "name": "stderr",
     "output_type": "stream",
     "text": [
      "Training:  32%|██████████████████████▌                                               | 306/952 [16:27<35:26,  3.29s/it]"
     ]
    },
    {
     "name": "stdout",
     "output_type": "stream",
     "text": [
      "Mean train loss on the last 300 batches: 0.9735668897628784;\r"
     ]
    },
    {
     "name": "stderr",
     "output_type": "stream",
     "text": [
      "Training:  64%|████████████████████████████████████████████▋                         | 607/952 [33:13<19:01,  3.31s/it]"
     ]
    },
    {
     "name": "stdout",
     "output_type": "stream",
     "text": [
      "Mean train loss on the last 300 batches: 0.9510174989700317;\r"
     ]
    },
    {
     "name": "stderr",
     "output_type": "stream",
     "text": [
      "Training:  96%|██████████████████████████████████████████████████████████████████▉   | 910/952 [50:17<02:19,  3.32s/it]"
     ]
    },
    {
     "name": "stdout",
     "output_type": "stream",
     "text": [
      "Mean train loss on the last 300 batches: 0.9537065029144287;\r"
     ]
    },
    {
     "name": "stderr",
     "output_type": "stream",
     "text": [
      "Training: 100%|██████████████████████████████████████████████████████████████████████| 952/952 [52:38<00:00,  3.32s/it]\n"
     ]
    },
    {
     "name": "stdout",
     "output_type": "stream",
     "text": [
      "Mean train loss after epoch: 0.9562451839447021\n",
      "Total train loss after epoch: 900.7828979492188\n",
      "cleaned 4128872.0 gb\n",
      "available 4643.0 gb\n"
     ]
    },
    {
     "name": "stderr",
     "output_type": "stream",
     "text": [
      "Evaluating: 100%|████████████████████████████████████████████████████████████████████| 493/493 [06:17<00:00,  1.31it/s]\n",
      "Evaluating: 100%|████████████████████████████████████████████████████████████████████| 190/190 [00:54<00:00,  3.47it/s]"
     ]
    },
    {
     "name": "stdout",
     "output_type": "stream",
     "text": [
      "===================================\n",
      "\n"
     ]
    },
    {
     "name": "stderr",
     "output_type": "stream",
     "text": [
      "\n"
     ]
    }
   ],
   "source": [
    "train_val_loop(\n",
    "  model=model, optimizer=optimizer, scheduler=scheduler, \n",
    "  dataset_train=experement_parameters[\"dataset_train\"], \n",
    "  dataset_test=experement_parameters[\"dataset_test\"], \n",
    "  dataset_val=experement_parameters[\"dataset_val\"],\n",
    "  batch_size_train=experement_parameters[\"batch_size_train\"],\n",
    "  batch_size_val=experement_parameters[\"batch_size_val\"], \n",
    "  batch_size_test=experement_parameters[\"batch_size_test\"],\n",
    "  num_epochs=experement_parameters[\"num_epochs\"], \n",
    "  train_shuffle=experement_parameters[\"train_shuffle\"], \n",
    "  collate_fn=experement_parameters[\"collate_fn\"], \n",
    "  verbose_every_n_batches=experement_parameters[\"verbose_every_n_batches\"],\n",
    "  eval_on_train=True,\n",
    ")ы"
   ]
  },
  {
   "cell_type": "code",
   "execution_count": 20,
   "metadata": {
    "id": "l4vJ99EtvJ7c"
   },
   "outputs": [],
   "source": [
    "torch.save(model.state_dict(), \"model_weights.pth\")"
   ]
  },
  {
   "cell_type": "code",
   "execution_count": null,
   "metadata": {},
   "outputs": [],
   "source": []
  }
 ],
 "metadata": {
  "accelerator": "GPU",
  "colab": {
   "provenance": [],
   "toc_visible": true
  },
  "gpuClass": "standard",
  "kernelspec": {
   "display_name": "Python 3 (ipykernel)",
   "language": "python",
   "name": "python3"
  },
  "language_info": {
   "codemirror_mode": {
    "name": "ipython",
    "version": 3
   },
   "file_extension": ".py",
   "mimetype": "text/x-python",
   "name": "python",
   "nbconvert_exporter": "python",
   "pygments_lexer": "ipython3",
   "version": "3.9.13"
  }
 },
 "nbformat": 4,
 "nbformat_minor": 1
}
